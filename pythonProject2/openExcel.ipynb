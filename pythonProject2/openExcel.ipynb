{
 "cells": [
  {
   "cell_type": "code",
   "execution_count": 1,
   "metadata": {},
   "outputs": [
    {
     "data": {
      "text/plain": [
       "' 打开excel文件，读取工作表，将数据储存为df '"
      ]
     },
     "execution_count": 1,
     "metadata": {},
     "output_type": "execute_result"
    }
   ],
   "source": [
    "\"\"\" 打开excel文件，读取工作表，将数据储存为df \"\"\""
   ]
  },
  {
   "cell_type": "code",
   "execution_count": 2,
   "metadata": {},
   "outputs": [],
   "source": [
    "# 数据分析包\n",
    "from pandas import Series, DataFrame\n",
    "from IPython.display import display\n",
    "from  openpyxl import load_workbook\n",
    "\n",
    "import pandas as pd\n",
    "import numpy as np\n",
    "import xlwings as xw\n",
    "import xlrd\n",
    "import openpyxl\n",
    "import xlwt\n",
    "\n",
    "\n",
    "# 数字处理包\n",
    "import operator\n",
    "\n",
    "\n",
    "# 文本处理包\n",
    "import re\n",
    "import string\n",
    "import jieba\n",
    "from zhon.hanzi import punctuation\n",
    "\n",
    "\n",
    "# 时间处理包\n",
    "import time\n",
    "import datetime\n",
    "\n",
    "\n",
    "# \n",
    "from input_to_boolean import input_to_boolean\n",
    "from update_data import update_data"
   ]
  },
  {
   "cell_type": "code",
   "execution_count": 3,
   "metadata": {},
   "outputs": [],
   "source": [
    "\"\"\" 创建excel实例\n",
    "\n",
    "@param\n",
    "file_path as str, excel文件路径\n",
    "xlsx_file as ExceFile， excel文件实例 \n",
    "file_name as str, eccel文件名称\n",
    "\"\"\"\n",
    "\n",
    "# 输入文件路径A\n",
    "file_path = r'C:\\Users\\yiru.wang\\DA\\test.xlsx'    # test\n",
    "xlsx_file = pd.ExcelFile(file_path)\n",
    "file_name = file_path.split('\\\\')[-1]"
   ]
  },
  {
   "cell_type": "code",
   "execution_count": 4,
   "metadata": {
    "scrolled": true
   },
   "outputs": [
    {
     "name": "stdout",
     "output_type": "stream",
     "text": [
      "test.xlsx包含以下工作表：\n",
      "\n",
      "1. sheet6\n"
     ]
    }
   ],
   "source": [
    "\"\"\" 读取excel文件内的所有工作表及数据\n",
    "\n",
    "@param 修改excel后，需要更新\n",
    "sheets_ordereddict as OrderedDict, 工作表名称及数据df有序字典\n",
    "sheets_dict as dict, 工作表名称及数据df字典\n",
    "sheet_name as str, 工作表名称\n",
    "sheet_data as df, 工作表内数据\n",
    "sheet_list as list, 工作表名称列表\n",
    "\"\"\"\n",
    "# 读取工作表名称及数据，转换为字典{工作表名称:数据df}\n",
    "sheets_ordereddict = pd.read_excel(xlsx_file, sheet_name = None)    # 返回OrderedDict（有序字典）\n",
    "sheets_dict = dict()\n",
    "for sheet_name, sheet_data in sheets_ordereddict.items():\n",
    "    sheets_dict[sheet_name] = sheet_data\n",
    "\n",
    "# 输出工作表名称\n",
    "print('%s包含以下工作表：\\n' % file_name)\n",
    "\n",
    "# 生成序号\n",
    "count = 0\n",
    "sheet_list = list(sheets_dict.keys())    # 储存工作表名称，为list\n",
    "\n",
    "for sheet_name in sheet_list:\n",
    "    count += 1\n",
    "    print(str(count) + '. ' + sheet_name)"
   ]
  },
  {
   "cell_type": "code",
   "execution_count": 5,
   "metadata": {
    "scrolled": false
   },
   "outputs": [
    {
     "name": "stdout",
     "output_type": "stream",
     "text": [
      "《原始数据》工作表不存在，test.xlsx中仅包括含《sheet6》工作表，是否预览（Y/N）？\n",
      "y\n",
      "\n",
      "\n",
      "Empty DataFrame\n",
      "Columns: []\n",
      "Index: [] \n",
      "\n",
      "是否将《sheet6》重命名为《原始数据》（Y/N）？\n",
      "y\n",
      "\n",
      "\n"
     ]
    }
   ],
   "source": [
    "\"\"\" 判断是否包含原始数据工作表\n",
    "1. 若已存在，则预览并储存为ori_data_df\n",
    "2. 若不存在且只存在一个工作表，则预览，并询问是否将该工作表重命名为《原始数据》\n",
    "3. 若不存在且存在多个工作表，则询问哪一工作表为原始数据，并预览及确认（不是则循环），询问是否将该工作表重命名为《原始数据》\n",
    "\n",
    "@param \n",
    "input_result as boolean, 用户输入结果\n",
    "ori_data_df as df, 原始数据\n",
    "sheets_dict as dict, 工作表名称及数据df字典\n",
    "cleaned_data_df as df，清洗后数据df\n",
    "\"\"\"\n",
    "# 若《原始数据》工作表已存在\n",
    "if '原始数据' in sheet_list:\n",
    "    \n",
    "    # 预览\n",
    "    print('《原始数据》工作表已存在，是否预览（Y/N）？')\n",
    "    if input_to_boolean() is True:\n",
    "        print(sheets_dict['原始数据'].head(10), '\\n')    \n",
    "    \n",
    "    # 确认数据源，进行下一步数据清理\n",
    "    print('是否提取数据，进行数据清洗（Y/N）？')\n",
    "    if input_to_boolean() is True:\n",
    "        # 储存《原始数据》为df, 创建数据清洗df\n",
    "        ori_data_df = sheets_dict['原始数据']\n",
    "        cleaned_data_df = ori_data_df\n",
    "    else:\n",
    "        print('退出程序')\n",
    "        exit()\n",
    " \n",
    "# 《原始数据》不存在且只存在一个工作表\n",
    "elif ('原始数据' not in sheet_list) & (len(sheet_list) == 1):\n",
    "    \n",
    "    # 预览\n",
    "    sheet_name = sheet_list[0]\n",
    "    print('《原始数据》工作表不存在，%s中仅包括含《%s》工作表，是否预览（Y/N）？' % (file_name, sheet_name))\n",
    "    if input_to_boolean() is True:\n",
    "        print(sheets_dict[sheet_name].head(10), '\\n') \n",
    "        \n",
    "        # 重命名\n",
    "        print('是否将《%s》重命名为《原始数据》（Y/N）？' % sheet_name)\n",
    "        if input_to_boolean() is True:\n",
    "            # sheets_dict['原始数据'] = sheets_dict.pop(sheet_name)\n",
    "            update_data(sheets_dict[sheet_name], file_path, '原始数据')\n",
    "\n",
    "            \n",
    "        \n",
    "        \n",
    "    "
   ]
  },
  {
   "cell_type": "code",
   "execution_count": 7,
   "metadata": {},
   "outputs": [
    {
     "name": "stdout",
     "output_type": "stream",
     "text": [
      "['sheet6']\n"
     ]
    }
   ],
   "source": [
    "print(sheet_list)"
   ]
  },
  {
   "cell_type": "code",
   "execution_count": null,
   "metadata": {},
   "outputs": [],
   "source": []
  }
 ],
 "metadata": {
  "kernelspec": {
   "display_name": "Python 3",
   "language": "python",
   "name": "python3"
  },
  "language_info": {
   "codemirror_mode": {
    "name": "ipython",
    "version": 3
   },
   "file_extension": ".py",
   "mimetype": "text/x-python",
   "name": "python",
   "nbconvert_exporter": "python",
   "pygments_lexer": "ipython3",
   "version": "3.6.5"
  }
 },
 "nbformat": 4,
 "nbformat_minor": 2
}
